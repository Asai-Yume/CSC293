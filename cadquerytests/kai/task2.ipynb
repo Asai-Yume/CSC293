{
 "cells": [
  {
   "cell_type": "code",
   "execution_count": 18,
   "metadata": {},
   "outputs": [],
   "source": [
    "import cadquery as cq\n",
    "from cadquery import exporters"
   ]
  },
  {
   "cell_type": "code",
   "execution_count": 19,
   "metadata": {},
   "outputs": [],
   "source": [
    "# testing\n",
    "cq.Workplane('XY').box(1,2,3).toSvg() #testing\n",
    "\n",
    "result = cq.Workplane().box(10, 10, 10)\n",
    "exporters.export(result, \"box.svg\")"
   ]
  },
  {
   "cell_type": "code",
   "execution_count": 20,
   "metadata": {},
   "outputs": [],
   "source": [
    "# task 1\n",
    "# using built-in function of cadquery to export the stl file of C270_assembly.step\n",
    "C270 = cq.importers.importStep('C270_assembly.step')\n",
    "exporters.export(C270, \"C270.stl\")\n"
   ]
  },
  {
   "cell_type": "code",
   "execution_count": 21,
   "metadata": {},
   "outputs": [],
   "source": [
    "# task 2\n",
    "# using built-in function of cadquery to export the svg file of C270_assembly.step\n",
    "exporters.export(C270, \"C270.svg\")"
   ]
  },
  {
   "cell_type": "code",
   "execution_count": 50,
   "metadata": {},
   "outputs": [
    {
     "name": "stdout",
     "output_type": "stream",
     "text": [
      "Reading STEP file ... parsing Assembly ... done\n",
      "duration:   1.2 s\n",
      "Object: C270_mount_0\n",
      "Location: <cadquery.assembly.Assembly object at 0x00000254AA80B0D0>\n",
      "Object: Logitech_C270_0\n",
      "Location: <cadquery.assembly.Assembly object at 0x00000254A7085410>\n",
      "Object: Logitech_c270_Assembly_v2_0\n",
      "Location: <cadquery.assembly.Assembly object at 0x00000254AA5821D0>\n",
      "Object: Focus_wheel_0\n",
      "Location: <cadquery.assembly.Assembly object at 0x00000254AA89D110>\n",
      "Object: 91698A201_Black-Oxide_18-8_Stainless_Steel_Phillips_Flat_Head_Screws_0\n",
      "Location: <cadquery.assembly.Assembly object at 0x00000254AA89D350>\n",
      "Object: SOLID_0\n",
      "Location: <cadquery.assembly.Assembly object at 0x00000254AA89D610>\n",
      "Object: Pin_0\n",
      "Location: <cadquery.assembly.Assembly object at 0x00000254AA89D2D0>\n",
      "Object: C270_assembly_v19\n",
      "Location: <cadquery.assembly.Assembly object at 0x00000254AA580ED0>\n"
     ]
    }
   ],
   "source": [
    "from jupyter_cadquery import stepreader\n",
    "\n",
    "# From jupyter cadquery's documentation:\n",
    "# sr.load loads a step file and store it as a list of AssemblyObjects in self.assemblies\n",
    "sr = stepreader.StepReader()\n",
    "sr.load('C270_assembly.step')\n",
    "\n",
    "# sr.to_cadquery converts the AssemblyObjects format to CadQuery Assemblies, return: cadquery.Assembly\n",
    "# Assembly([obj, loc, name, color, metadata])\n",
    "C270cq = sr.to_cadquery()\n",
    "\n",
    "for obj, loc in C270cq.traverse():\n",
    "    print(\"Object:\", obj)\n",
    "    print(\"Location:\", loc)\n",
    "    exporters.export(loc.toCompound(), \"{name}.svg\".format(name=obj))\n",
    "\n",
    "    if obj == \"C270_mount_0\":\n",
    "        # trying out rotation on mount\n",
    "        # rotating front to back on x axis\n",
    "        mountback = loc.toCompound().rotate((0, 0, 0), (1, 0, 0), 180)\n",
    "        exporters.export(mountback, \"C270_mount_0_back.svg\")\n",
    "        \n",
    "        # rotating front to back 180 degrees to flip the object\n",
    "        mountside = loc.toCompound().rotate((0, 0, 0), (0, 90, 0), 180)\n",
    "        exporters.export(mountside, \"C270_mount_0_side.svg\")\n"
   ]
  }
 ],
 "metadata": {
  "kernelspec": {
   "display_name": "Python 3",
   "language": "python",
   "name": "python3"
  },
  "language_info": {
   "codemirror_mode": {
    "name": "ipython",
    "version": 3
   },
   "file_extension": ".py",
   "mimetype": "text/x-python",
   "name": "python",
   "nbconvert_exporter": "python",
   "pygments_lexer": "ipython3",
   "version": "3.11.5"
  },
  "orig_nbformat": 4
 },
 "nbformat": 4,
 "nbformat_minor": 2
}
